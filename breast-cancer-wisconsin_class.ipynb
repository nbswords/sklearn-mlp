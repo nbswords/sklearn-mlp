{
 "cells": [
  {
   "cell_type": "code",
   "execution_count": 7,
   "metadata": {
    "ExecuteTime": {
     "end_time": "2020-06-06T17:17:40.014059Z",
     "start_time": "2020-06-06T17:17:39.009746Z"
    }
   },
   "outputs": [
    {
     "name": "stdout",
     "output_type": "stream",
     "text": [
      "Training set score: 0.995816\n",
      "Test set score: 0.951220\n",
      "Mean of Cross validation score:  0.9575560962422276\n"
     ]
    }
   ],
   "source": [
    "import pandas as pd\n",
    "from sklearn.model_selection import train_test_split\n",
    "from sklearn.utils import shuffle\n",
    "from sklearn.neural_network import MLPClassifier\n",
    "\n",
    "dataset = pd.read_table('breast-cancer-wisconsin.data', names= ['Sample code number', 'Clump Thickness','Uniformity of Cell Size', 'Uniformity of Cell Shape', 'Marginal Adhesion', 'Single Epithelial Cell Size', 'Bare Nuclei', 'Bland Chromatin', 'Normal Nucleoli', 'Mitoses', 'Class'])\n",
    "# print(dataset.head())\n",
    "# drop '?'\n",
    "droplist=[]\n",
    "index = -1\n",
    "for i in dataset['Bare Nuclei']:\n",
    "    index += 1 \n",
    "    if i == '?':\n",
    "        droplist.append(index)\n",
    "dataset = dataset.drop(droplist)\n",
    "# shuffle data\n",
    "dataset = shuffle(dataset)\n",
    "# Not use 'Sample code number'\n",
    "X = dataset.iloc[:,1:10]\n",
    "y = dataset.iloc[:,10]\n",
    "X_train, X_test, y_train, y_test = train_test_split(X, y, test_size=0.3, random_state=64)\n",
    "\n",
    "# print(\"X_train shape= \",X_train.shape)\n",
    "# print(\"y_train.shape= \",y_train.shape)\n",
    "# print(\"X_test shape= \",X_test.shape)\n",
    "# print(\"y_test shape=\",y_test.shape)\n",
    "\n",
    "# MlP Training\n",
    "mlp = MLPClassifier(hidden_layer_sizes=(20,20,20), activation='relu', learning_rate_init=0.01, learning_rate='adaptive')\n",
    "model = mlp.fit(X_train,y_train)\n",
    "print(\"Training set score: %f\" % model.score(X_train, y_train))\n",
    "print(\"Test set score: %f\" % model.score(X_test, y_test))\n",
    "\n",
    "# Cross validation\n",
    "from sklearn.model_selection import cross_val_score\n",
    "scores = cross_val_score(model, X, y, cv=5, scoring='accuracy')\n",
    "print('Mean of Cross validation score: ',scores.mean())"
   ]
  }
 ],
 "metadata": {
  "hide_input": false,
  "kernelspec": {
   "display_name": "Python 3.6.8 64-bit",
   "language": "python",
   "name": "python36864bit6992c404cc394c739b38c1f8a470111b"
  },
  "language_info": {
   "codemirror_mode": {
    "name": "ipython",
    "version": 3
   },
   "file_extension": ".py",
   "mimetype": "text/x-python",
   "name": "python",
   "nbconvert_exporter": "python",
   "pygments_lexer": "ipython3",
   "version": "3.6.8"
  },
  "toc": {
   "base_numbering": 1,
   "nav_menu": {},
   "number_sections": true,
   "sideBar": true,
   "skip_h1_title": false,
   "title_cell": "Table of Contents",
   "title_sidebar": "Contents",
   "toc_cell": false,
   "toc_position": {},
   "toc_section_display": true,
   "toc_window_display": false
  },
  "varInspector": {
   "cols": {
    "lenName": 16,
    "lenType": 16,
    "lenVar": 40
   },
   "kernels_config": {
    "python": {
     "delete_cmd_postfix": "",
     "delete_cmd_prefix": "del ",
     "library": "var_list.py",
     "varRefreshCmd": "print(var_dic_list())"
    },
    "r": {
     "delete_cmd_postfix": ") ",
     "delete_cmd_prefix": "rm(",
     "library": "var_list.r",
     "varRefreshCmd": "cat(var_dic_list()) "
    }
   },
   "types_to_exclude": [
    "module",
    "function",
    "builtin_function_or_method",
    "instance",
    "_Feature"
   ],
   "window_display": false
  }
 },
 "nbformat": 4,
 "nbformat_minor": 4
}
